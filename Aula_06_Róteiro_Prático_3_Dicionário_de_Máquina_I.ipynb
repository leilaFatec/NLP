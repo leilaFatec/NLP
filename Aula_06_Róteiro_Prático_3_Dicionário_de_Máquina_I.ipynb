{
  "nbformat": 4,
  "nbformat_minor": 0,
  "metadata": {
    "colab": {
      "provenance": []
    },
    "kernelspec": {
      "name": "python3",
      "display_name": "Python 3"
    },
    "language_info": {
      "name": "python"
    }
  },
  "cells": [
    {
      "cell_type": "code",
      "execution_count": null,
      "metadata": {
        "colab": {
          "base_uri": "https://localhost:8080/"
        },
        "id": "ScGv0SR0LxFL",
        "outputId": "064e089a-61ee-45c3-84c3-a6b6f808a797"
      },
      "outputs": [
        {
          "output_type": "stream",
          "name": "stdout",
          "text": [
            "Vocabulario: {'gato': 3, 'cachorro': 1, 'brinca': 0, 'com': 2, 'rato': 4}\n",
            "Matriz Bow:\n",
            "[[0 1 0 1 0]\n",
            " [1 1 1 1 0]\n",
            " [0 0 0 1 1]\n",
            " [0 1 0 1 1]\n",
            " [0 0 0 1 0]\n",
            " [0 1 0 0 1]]\n"
          ]
        }
      ],
      "source": [
        "from sklearn.feature_extraction.text import CountVectorizer\n",
        "documentos = [\n",
        "    \"gato e cachorro\",\n",
        "    \"gato brinca com cachorro\",\n",
        "    \"gato e rato\",\n",
        "    \"Cachorro, gato e rato\",\n",
        "    \"Gato\",\n",
        "    \"Cachorro e rato\"\n",
        "]\n",
        "\n",
        "vectorizer = CountVectorizer()\n",
        "X = vectorizer.fit_transform(documentos)\n",
        "print(f\"Vocabulario: {vectorizer.vocabulary_}\")\n",
        "print(\"Matriz Bow:\")\n",
        "print(X.toarray())"
      ]
    },
    {
      "cell_type": "code",
      "source": [
        "from sklearn.feature_extraction.text import CountVectorizer\n",
        "poema_estrofes = [\n",
        "     \"De tudo, ao meu amor serei atento antes\",\n",
        "     \"E antes de mais nada, com tal zelo e sempre\",\n",
        "     \"E sempre e tanto que em vossa presença sinta\",\n",
        "     \"Que o vosso amor não tenha, o meu amor não tenha\",\n",
        "     \"Diante de ti meu coração se fez, e meu corpo se fez, e minha alma se fez\",\n",
        "     \"Em cada verso que escrevi para ti, em cada palavra que te disse\"\n",
        "\n",
        "]\n",
        "vectorizer = CountVectorizer()\n",
        "matriz_bow = vectorizer.fit_transform(poema_estrofes)\n",
        "print(f\"Vocabulario (palavra: índice): {vectorizer.vocabulary_}\\n\")\n",
        "print(\"Matriz Bow (documentos x palavras): \")\n",
        "print(matriz_bow.toarray())"
      ],
      "metadata": {
        "colab": {
          "base_uri": "https://localhost:8080/"
        },
        "id": "1fErJMHSDNwD",
        "outputId": "c2f66511-2e0c-4cbe-f59d-de549a404ffd"
      },
      "execution_count": null,
      "outputs": [
        {
          "output_type": "stream",
          "name": "stdout",
          "text": [
            "Vocabulario (palavra: índice): {'de': 9, 'tudo': 33, 'ao': 3, 'meu': 16, 'amor': 1, 'serei': 26, 'atento': 4, 'antes': 2, 'mais': 15, 'nada': 18, 'com': 6, 'tal': 28, 'zelo': 37, 'sempre': 25, 'tanto': 29, 'que': 23, 'em': 12, 'vossa': 35, 'presença': 22, 'sinta': 27, 'vosso': 36, 'não': 19, 'tenha': 31, 'diante': 10, 'ti': 32, 'coração': 7, 'se': 24, 'fez': 14, 'corpo': 8, 'minha': 17, 'alma': 0, 'cada': 5, 'verso': 34, 'escrevi': 13, 'para': 21, 'palavra': 20, 'te': 30, 'disse': 11}\n",
            "\n",
            "Matriz Bow (documentos x palavras): \n",
            "[[0 1 1 1 1 0 0 0 0 1 0 0 0 0 0 0 1 0 0 0 0 0 0 0 0 0 1 0 0 0 0 0 0 1 0 0\n",
            "  0 0]\n",
            " [0 0 1 0 0 0 1 0 0 1 0 0 0 0 0 1 0 0 1 0 0 0 0 0 0 1 0 0 1 0 0 0 0 0 0 0\n",
            "  0 1]\n",
            " [0 0 0 0 0 0 0 0 0 0 0 0 1 0 0 0 0 0 0 0 0 0 1 1 0 1 0 1 0 1 0 0 0 0 0 1\n",
            "  0 0]\n",
            " [0 2 0 0 0 0 0 0 0 0 0 0 0 0 0 0 1 0 0 2 0 0 0 1 0 0 0 0 0 0 0 2 0 0 0 0\n",
            "  1 0]\n",
            " [1 0 0 0 0 0 0 1 1 1 1 0 0 0 3 0 2 1 0 0 0 0 0 0 3 0 0 0 0 0 0 0 1 0 0 0\n",
            "  0 0]\n",
            " [0 0 0 0 0 2 0 0 0 0 0 1 2 1 0 0 0 0 0 0 1 1 0 2 0 0 0 0 0 0 1 0 1 0 1 0\n",
            "  0 0]]\n"
          ]
        }
      ]
    },
    {
      "cell_type": "code",
      "source": [
        "from sklearn.feature_extraction.text import TfidfVectorizer\n",
        "poema_estrofes = [\n",
        "     \"De tudo, ao meu amor serei atento antes\",\n",
        "     \"E antes de mais nada, com tal zelo e sempre\",\n",
        "     \"E sempre e tanto que em vossa presença sinta\",\n",
        "     \"Que o vosso amor não tenha, o meu amor não tenha\",\n",
        "     \"Diante de ti meu coração se fez, e meu corpo se fez, e minha alma se fez\",\n",
        "     \"Em cada verso que escrevi para ti, em cada palavra que te disse\"\n",
        "\n",
        "]\n",
        "vectorizer_tfidf = TfidfVectorizer()\n",
        "matriz_tfidf = vectorizer_tfidf.fit_transform(poema_estrofes)\n",
        "print(\"---TF-IDF para o Soneto de Fidelidade ---\")\n",
        "print(f\"\\nVocabulario (palavra: índice): {vectorizer_tfidf.vocabulary_}\\n\")\n",
        "print(\"Matriz TF-IDF (documentos x palavras): \")\n",
        "print(matriz_tfidf.toarray())"
      ],
      "metadata": {
        "colab": {
          "base_uri": "https://localhost:8080/"
        },
        "id": "-rDXJnh2F3ij",
        "outputId": "4d7a5ab6-0798-4d3f-fb6c-c231f21cf0b9"
      },
      "execution_count": null,
      "outputs": [
        {
          "output_type": "stream",
          "name": "stdout",
          "text": [
            "---TF-IDF para o Soneto de Fidelidade ---\n",
            "\n",
            "Vocabulario (palavra: índice): {'de': 9, 'tudo': 33, 'ao': 3, 'meu': 16, 'amor': 1, 'serei': 26, 'atento': 4, 'antes': 2, 'mais': 15, 'nada': 18, 'com': 6, 'tal': 28, 'zelo': 37, 'sempre': 25, 'tanto': 29, 'que': 23, 'em': 12, 'vossa': 35, 'presença': 22, 'sinta': 27, 'vosso': 36, 'não': 19, 'tenha': 31, 'diante': 10, 'ti': 32, 'coração': 7, 'se': 24, 'fez': 14, 'corpo': 8, 'minha': 17, 'alma': 0, 'cada': 5, 'verso': 34, 'escrevi': 13, 'para': 21, 'palavra': 20, 'te': 30, 'disse': 11}\n",
            "\n",
            "Matriz TF-IDF (documentos x palavras): \n",
            "[[0.         0.32661236 0.32661236 0.39830081 0.39830081 0.\n",
            "  0.         0.         0.         0.2757486  0.         0.\n",
            "  0.         0.         0.         0.         0.2757486  0.\n",
            "  0.         0.         0.         0.         0.         0.\n",
            "  0.         0.         0.39830081 0.         0.         0.\n",
            "  0.         0.         0.         0.39830081 0.         0.\n",
            "  0.         0.        ]\n",
            " [0.         0.         0.31390437 0.         0.         0.\n",
            "  0.38280352 0.         0.         0.26501964 0.         0.\n",
            "  0.         0.         0.         0.38280352 0.         0.\n",
            "  0.38280352 0.         0.         0.         0.         0.\n",
            "  0.         0.31390437 0.         0.         0.38280352 0.\n",
            "  0.         0.         0.         0.         0.         0.\n",
            "  0.         0.38280352]\n",
            " [0.         0.         0.         0.         0.         0.\n",
            "  0.         0.         0.         0.         0.         0.\n",
            "  0.33978594 0.         0.         0.         0.         0.\n",
            "  0.         0.         0.         0.         0.41436586 0.28687063\n",
            "  0.         0.33978594 0.         0.41436586 0.         0.41436586\n",
            "  0.         0.         0.         0.         0.         0.41436586\n",
            "  0.         0.        ]\n",
            " [0.         0.46114295 0.         0.         0.         0.\n",
            "  0.         0.         0.         0.         0.         0.\n",
            "  0.         0.         0.         0.         0.19466428 0.\n",
            "  0.         0.56235964 0.         0.         0.         0.19466428\n",
            "  0.         0.         0.         0.         0.         0.\n",
            "  0.         0.56235964 0.         0.         0.         0.\n",
            "  0.28117982 0.        ]\n",
            " [0.19585677 0.         0.         0.         0.         0.\n",
            "  0.         0.19585677 0.19585677 0.13559408 0.19585677 0.\n",
            "  0.         0.         0.58757032 0.         0.27118816 0.19585677\n",
            "  0.         0.         0.         0.         0.         0.\n",
            "  0.58757032 0.         0.         0.         0.         0.\n",
            "  0.         0.         0.16060536 0.         0.         0.\n",
            "  0.         0.        ]\n",
            " [0.         0.         0.         0.         0.         0.51165618\n",
            "  0.         0.         0.         0.         0.         0.25582809\n",
            "  0.41956538 0.25582809 0.         0.         0.         0.\n",
            "  0.         0.         0.25582809 0.25582809 0.         0.35422593\n",
            "  0.         0.         0.         0.         0.         0.\n",
            "  0.25582809 0.         0.20978269 0.         0.25582809 0.\n",
            "  0.         0.        ]]\n"
          ]
        }
      ]
    },
    {
      "cell_type": "code",
      "source": [
        "from sklearn.feature_extraction.text import CountVectorizer\n",
        "from sklearn.feature_extraction.text import TfidfVectorizer\n",
        "documentos = [\n",
        "    \"gato e cachorro\",\n",
        "    \"gato brinca com cachorro\",\n",
        "    \"gato e rato\",\n",
        "    \"Cachorro, gato e rato\",\n",
        "    \"Gato\",\n",
        "    \"Cachorro e rato\"\n",
        "]\n",
        "\n",
        "vectorizer_bow = CountVectorizer()\n",
        "X_bow = vectorizer_bow.fit_transform(documentos)\n",
        "print(f\"Vocabulario Bow: {vectorizer_bow.vocabulary_}\")\n",
        "print(\"Matriz Bow:\")\n",
        "print(X_bow.toarray())\n",
        "vectorizer_tfidf = TfidfVectorizer()\n",
        "X_tfidf = vectorizer_tfidf.fit_transform(documentos)\n",
        "print(f\"\\nVocabulario TF-IDF : {vectorizer_tfidf.vocabulary_}\")\n",
        "print(\"Matriz TF-IDF\")\n",
        "print(X_tfidf.toarray())"
      ],
      "metadata": {
        "colab": {
          "base_uri": "https://localhost:8080/"
        },
        "id": "7z6AtkXgG69T",
        "outputId": "f9c0a965-10db-459e-d23a-eeddc01b58a3"
      },
      "execution_count": null,
      "outputs": [
        {
          "output_type": "stream",
          "name": "stdout",
          "text": [
            "Vocabulario Bow: {'gato': 3, 'cachorro': 1, 'brinca': 0, 'com': 2, 'rato': 4}\n",
            "Matriz Bow:\n",
            "[[0 1 0 1 0]\n",
            " [1 1 1 1 0]\n",
            " [0 0 0 1 1]\n",
            " [0 1 0 1 1]\n",
            " [0 0 0 1 0]\n",
            " [0 1 0 0 1]]\n",
            "\n",
            "Vocabulario TF-IDF : {'gato': 3, 'cachorro': 1, 'brinca': 0, 'com': 2, 'rato': 4}\n",
            "Matriz TF-IDF\n",
            "[[0.         0.75684411 0.         0.65359543 0.        ]\n",
            " [0.61845922 0.36690659 0.61845922 0.31685319 0.        ]\n",
            " [0.         0.         0.         0.59485466 0.80383327]\n",
            " [0.         0.56726902 0.         0.48988217 0.66198287]\n",
            " [0.         0.         0.         1.         0.        ]\n",
            " [0.         0.65069558 0.         0.         0.7593387 ]]\n"
          ]
        }
      ]
    },
    {
      "cell_type": "markdown",
      "source": [
        "import nltk\n",
        "import re\n",
        "from nltk.corpus import stopwords\n",
        "from nltk.tokenize import word_tokenize\n",
        "from nltk.stem import WordNetLemmatizer\n",
        "from sklearn.feature_extraction.text import CountVectorizer\n",
        "\n",
        "nltk.download('punkt')\n",
        "nltk.download('stopwords')\n",
        "nltk.download('wordnet')\n",
        "nltk.download('omw-1.4')\n",
        "\n",
        "documentos = [\n",
        "    \"Os cachorros são animais muito amigáveis e leais!\"\n",
        "    \"Eu gosto de gatos porque eles são independentes e fofos.\"\n",
        "    \"Cachorros e gatos podem ser ótimos animais de estimação.\"\n",
        "]\n",
        "\n",
        "lemmatizer = WordNetLemmatizer()\n",
        "stop_words = set(stopwords(\"portuguese))\n",
        "\n",
        "def preprocessar_texto(texto):\n",
        "  texto = re.sub(r'[^a-zA-Zá-y\\s]','',texto)\n",
        "  tokens_tudo = word tokenize(texto.lower())\n",
        "  tokens = [palavra for palavra in tokens_tudo if palavra not in stop_words]\n",
        "  tokens_lema = [lemmatizer.lemmatize(palavra) for palavra in tokens]\n",
        "  return ''.join(tokens_lemma)\n",
        "\n",
        "  "
      ],
      "metadata": {
        "id": "eBN0-AFSIv7S"
      }
    },
    {
      "cell_type": "code",
      "source": [
        "import nltk\n",
        "import re\n",
        "from nltk.corpus import stopwords\n",
        "from nltk.tokenize import word_tokenize\n",
        "from nltk.stem import WordNetLemmatizer\n",
        "from sklearn.feature_extraction.text import CountVectorizer\n",
        "\n",
        "nltk.download('punkt_tab')\n",
        "nltk.download('stopwords')\n",
        "nltk.download('wordnet')\n",
        "nltk.download('omw-1.4')\n",
        "\n",
        "documentos = [ \"Os cachorros são animais muito amigáveis e leais!\",\n",
        " \"Eu gosto de gatos porque eles são independentes e fofos.\" ,\n",
        " \"Cachorros e gatos podem ser ótimos animais de estimação.\"\n",
        " ]\n",
        "\n",
        "lemmatizer = WordNetLemmatizer()\n",
        "stop_words = set(stopwords.words(\"portuguese\"))\n",
        "\n",
        "def preprocessar_texto(texto):\n",
        "  texto = re.sub(r'[^a-zA-Zá-ÿ\\s]',' ',texto)\n",
        "  tokens_tudo = word_tokenize(texto.lower())\n",
        "  tokens = [palavra for palavra in tokens_tudo if palavra not in stop_words]\n",
        "  tokens_lema = [lemmatizer.lemmatize(palavra) for palavra in tokens]\n",
        "  return ' '.join(tokens_lema)\n",
        "\n",
        "documentos_processados = [preprocessar_texto(doc) for doc in documentos]\n",
        "print('documentos Pré-processados:')\n",
        "for i, doc in enumerate(documentos_processados):\n",
        "  print(f\"Documento {i + 1}: {doc} \")\n",
        "\n",
        "vectorizer = CountVectorizer()\n",
        "X_bow = vectorizer.fit_transform(documentos_processados)\n",
        "\n",
        "print(\"\\nVocabulario Bow:\", vectorizer.vocabulary_)\n",
        "print(\"Matriz Bow:\")\n",
        "print(X_bow.toarray())"
      ],
      "metadata": {
        "colab": {
          "base_uri": "https://localhost:8080/"
        },
        "id": "KiOtRgPCL4CV",
        "outputId": "f97958ce-0ae8-44fa-88f6-112e9498b310"
      },
      "execution_count": null,
      "outputs": [
        {
          "output_type": "stream",
          "name": "stderr",
          "text": [
            "[nltk_data] Downloading package punkt_tab to /root/nltk_data...\n",
            "[nltk_data]   Unzipping tokenizers/punkt_tab.zip.\n",
            "[nltk_data] Downloading package stopwords to /root/nltk_data...\n",
            "[nltk_data]   Package stopwords is already up-to-date!\n",
            "[nltk_data] Downloading package wordnet to /root/nltk_data...\n",
            "[nltk_data]   Package wordnet is already up-to-date!\n",
            "[nltk_data] Downloading package omw-1.4 to /root/nltk_data...\n",
            "[nltk_data]   Package omw-1.4 is already up-to-date!\n"
          ]
        },
        {
          "output_type": "stream",
          "name": "stdout",
          "text": [
            "documentos Pré-processados:\n",
            "Documento 1: cachorros animais amigáveis leais \n",
            "Documento 2: gosto gatos porque independentes fofos \n",
            "Documento 3: cachorros gatos podem ótimos animais estimação \n",
            "\n",
            "Vocabulario Bow: {'cachorros': 2, 'animais': 1, 'amigáveis': 0, 'leais': 8, 'gosto': 6, 'gatos': 5, 'porque': 10, 'independentes': 7, 'fofos': 4, 'podem': 9, 'ótimos': 11, 'estimação': 3}\n",
            "Matriz Bow:\n",
            "[[1 1 1 0 0 0 0 0 1 0 0 0]\n",
            " [0 0 0 0 1 1 1 1 0 0 1 0]\n",
            " [0 1 1 1 0 1 0 0 0 1 0 1]]\n"
          ]
        }
      ]
    }
  ]
}