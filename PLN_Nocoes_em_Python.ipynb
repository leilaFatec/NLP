{
  "nbformat": 4,
  "nbformat_minor": 0,
  "metadata": {
    "colab": {
      "provenance": []
    },
    "kernelspec": {
      "name": "python3",
      "display_name": "Python 3"
    },
    "language_info": {
      "name": "python"
    }
  },
  "cells": [
    {
      "cell_type": "markdown",
      "source": [
        "#Tarefa 1.1\n",
        "# Integers (int) - para contagens, ids, etc"
      ],
      "metadata": {
        "id": "m4oKaApAaSWD"
      }
    },
    {
      "cell_type": "code",
      "execution_count": null,
      "metadata": {
        "colab": {
          "base_uri": "https://localhost:8080/"
        },
        "id": "EwNYnh-KZMwv",
        "outputId": "4d4ddf92-a8fd-40c0-9749-a064acc364b9"
      },
      "outputs": [
        {
          "output_type": "stream",
          "name": "stdout",
          "text": [
            "Número de livros: 100\n"
          ]
        }
      ],
      "source": [
        "quantidade_livros = 100\n",
        "print(f\"Número de livros: {quantidade_livros}\")"
      ]
    },
    {
      "cell_type": "markdown",
      "source": [
        "#Floats (float) para médias, percentuais, etc."
      ],
      "metadata": {
        "id": "wVEZn8JTbpOp"
      }
    },
    {
      "cell_type": "code",
      "source": [
        "media_avaliacoes = 4.5\n",
        "print(f\"Média das Avaliações:{media_avaliacoes}\")"
      ],
      "metadata": {
        "colab": {
          "base_uri": "https://localhost:8080/"
        },
        "id": "1Ggd9asfa2ee",
        "outputId": "5fc5cd09-e73e-4ff9-c853-f240c8850397"
      },
      "execution_count": null,
      "outputs": [
        {
          "output_type": "stream",
          "name": "stdout",
          "text": [
            "Média das Avaliações:4.5\n"
          ]
        }
      ]
    },
    {
      "cell_type": "markdown",
      "source": [
        "#Expressões Matemáticas Básicas"
      ],
      "metadata": {
        "id": "JZ0LTT5IcS_y"
      }
    },
    {
      "cell_type": "code",
      "source": [
        "resultado = (5*2.5)+3\n",
        "print(f\"Resultado da Expressão: {resultado}\")"
      ],
      "metadata": {
        "colab": {
          "base_uri": "https://localhost:8080/"
        },
        "id": "P1OxxhidcZ55",
        "outputId": "45bfe8dc-cce8-4500-9a6f-e736617cc90e"
      },
      "execution_count": null,
      "outputs": [
        {
          "output_type": "stream",
          "name": "stdout",
          "text": [
            "Resultado da Expressão: 15.5\n"
          ]
        }
      ]
    },
    {
      "cell_type": "markdown",
      "source": [
        "#Tarefa 1.2 Manipulando Strings\n",
        "\n",
        "#Strinsgs são sequências de caracteres"
      ],
      "metadata": {
        "id": "_P0K-5G1cr8Q"
      }
    },
    {
      "cell_type": "code",
      "source": [
        "frase = \"A linguística computacional é fascinante.\"\n",
        "print(f\"A frase inteira: {frase}\")"
      ],
      "metadata": {
        "colab": {
          "base_uri": "https://localhost:8080/"
        },
        "id": "f4bY5aCXc1KB",
        "outputId": "a9a51b23-72cd-451c-928e-b87661c568cb"
      },
      "execution_count": null,
      "outputs": [
        {
          "output_type": "stream",
          "name": "stdout",
          "text": [
            "A frase inteira: A linguística computacional é fascinante.\n"
          ]
        }
      ]
    },
    {
      "cell_type": "markdown",
      "source": [
        "#Acesso por índice(o índice começa com 0)"
      ],
      "metadata": {
        "id": "KAbu1lKydS9W"
      }
    },
    {
      "cell_type": "code",
      "source": [
        "print(f\"Primeiro caractere: {frase[0]}\")\n",
        "print(f\"Último caractere: {frase[-1]}\")"
      ],
      "metadata": {
        "colab": {
          "base_uri": "https://localhost:8080/"
        },
        "id": "yFXL2TeoeIcY",
        "outputId": "9648baac-69f8-4b3a-c99f-6a8277cb83a6"
      },
      "execution_count": null,
      "outputs": [
        {
          "output_type": "stream",
          "name": "stdout",
          "text": [
            "Primeiro caractere: A\n",
            "Último caractere: .\n"
          ]
        }
      ]
    },
    {
      "cell_type": "markdown",
      "source": [
        "#Acessando um trecho(slice)"
      ],
      "metadata": {
        "id": "22iCZwYNelVN"
      }
    },
    {
      "cell_type": "code",
      "source": [
        "print(f\"Primeiras 12 letras:{frase[:12]}\")"
      ],
      "metadata": {
        "colab": {
          "base_uri": "https://localhost:8080/"
        },
        "id": "zXTDIZTZerFs",
        "outputId": "3c02ca2f-2f30-436a-ad56-e7abd9aade00"
      },
      "execution_count": null,
      "outputs": [
        {
          "output_type": "stream",
          "name": "stdout",
          "text": [
            "Primeiras 12 letras:A linguístic\n"
          ]
        }
      ]
    },
    {
      "cell_type": "markdown",
      "source": [
        "#Métodos de Strings"
      ],
      "metadata": {
        "id": "T5sbvifVe668"
      }
    },
    {
      "cell_type": "code",
      "source": [
        "print(f\"Frase em maiúsculas: {frase.upper()}\")\n",
        "print(f\"Frase em maiúsculas: {frase.lower()}\")"
      ],
      "metadata": {
        "colab": {
          "base_uri": "https://localhost:8080/"
        },
        "id": "T_NaFoKKe_L-",
        "outputId": "d2400bd3-fa65-447f-effa-9c0efcc2ab5c"
      },
      "execution_count": null,
      "outputs": [
        {
          "output_type": "stream",
          "name": "stdout",
          "text": [
            "Frase em maiúsculas: A LINGUÍSTICA COMPUTACIONAL É FASCINANTE.\n",
            "Frase em maiúsculas: a linguística computacional é fascinante.\n"
          ]
        }
      ]
    },
    {
      "cell_type": "markdown",
      "source": [
        "#Tarefa 1.3: Explorando listas (mutáveis)\n",
        "#listas são coleções ordenadas e mutáveis (podem ser alteradas)"
      ],
      "metadata": {
        "id": "ie1AZohMfq3E"
      }
    },
    {
      "cell_type": "code",
      "source": [
        "palavras_chave = [\"phyton\",\"pln\",\"dados\"]\n",
        "print(f\"Lista original: {palavras_chave}\")"
      ],
      "metadata": {
        "colab": {
          "base_uri": "https://localhost:8080/"
        },
        "id": "_1Mb6oD7gVXs",
        "outputId": "fc78d700-0f24-4329-bb4d-3bac7eedf19c"
      },
      "execution_count": null,
      "outputs": [
        {
          "output_type": "stream",
          "name": "stdout",
          "text": [
            "Lista original: ['phyton', 'pln', 'dados']\n"
          ]
        }
      ]
    },
    {
      "cell_type": "markdown",
      "source": [
        "#Adicionar um item"
      ],
      "metadata": {
        "id": "fIZ_nKTPhGtc"
      }
    },
    {
      "cell_type": "code",
      "source": [
        "palavras_chave.append(\"linguagem\")\n",
        "print(f\"Lista após adicionar:{palavras_chave}\")"
      ],
      "metadata": {
        "colab": {
          "base_uri": "https://localhost:8080/"
        },
        "id": "5Apbtwl1h155",
        "outputId": "b451c327-f4e3-4256-f500-5e198be9be3f"
      },
      "execution_count": null,
      "outputs": [
        {
          "output_type": "stream",
          "name": "stdout",
          "text": [
            "Lista após adicionar:['phyton', 'pln', 'dados', 'linguagem']\n"
          ]
        }
      ]
    },
    {
      "cell_type": "markdown",
      "source": [
        "#Alterar um item"
      ],
      "metadata": {
        "id": "APJ3ExwQiQaU"
      }
    },
    {
      "cell_type": "code",
      "source": [
        "palavras_chave[0]=\"programacao\"\n",
        "print(f\"lista após alteração: {palavras_chave}\")"
      ],
      "metadata": {
        "colab": {
          "base_uri": "https://localhost:8080/"
        },
        "id": "b9j7t59aicQX",
        "outputId": "b9370212-f707-46ba-af2b-67d1c05cc410"
      },
      "execution_count": null,
      "outputs": [
        {
          "output_type": "stream",
          "name": "stdout",
          "text": [
            "lista após alteração: ['programacao', 'pln', 'dados', 'linguagem']\n"
          ]
        }
      ]
    },
    {
      "cell_type": "markdown",
      "source": [
        "#Tarefa 1.4: Explorando Tuplas (imutáveis).\n",
        "#tuplas são coleções ordenadas, mas imutáveis"
      ],
      "metadata": {
        "id": "tpDbbGe2jwT7"
      }
    },
    {
      "cell_type": "code",
      "source": [
        "dados_livro = (\"Título do Livro\", \"Autor\",2023)\n",
        "print(f\"dados do livro: {dados_livro}\")"
      ],
      "metadata": {
        "colab": {
          "base_uri": "https://localhost:8080/"
        },
        "id": "eqXSJIRckA2e",
        "outputId": "6644265b-c6dd-4f2d-9185-33572f7823e5"
      },
      "execution_count": null,
      "outputs": [
        {
          "output_type": "stream",
          "name": "stdout",
          "text": [
            "dados do livro: ('Título do Livro', 'Autor', 2023)\n"
          ]
        }
      ]
    },
    {
      "cell_type": "markdown",
      "source": [
        "#tentar alterar um item irá gerar um erro!"
      ],
      "metadata": {
        "id": "FWmHdy4LkZuz"
      }
    },
    {
      "cell_type": "code",
      "source": [
        "dados_livro[0]=\"Novo Título\"\n",
        "print(f\"dados do livro: {dados_livro}\")"
      ],
      "metadata": {
        "colab": {
          "base_uri": "https://localhost:8080/",
          "height": 159
        },
        "id": "FP8oC9swkmhb",
        "outputId": "50ccd6d7-6370-486b-8546-55f87cc29b6c"
      },
      "execution_count": null,
      "outputs": [
        {
          "output_type": "error",
          "ename": "TypeError",
          "evalue": "'tuple' object does not support item assignment",
          "traceback": [
            "\u001b[0;31m---------------------------------------------------------------------------\u001b[0m",
            "\u001b[0;31mTypeError\u001b[0m                                 Traceback (most recent call last)",
            "\u001b[0;32m/tmp/ipython-input-2301758179.py\u001b[0m in \u001b[0;36m<cell line: 0>\u001b[0;34m()\u001b[0m\n\u001b[0;32m----> 1\u001b[0;31m \u001b[0mdados_livro\u001b[0m\u001b[0;34m[\u001b[0m\u001b[0;36m0\u001b[0m\u001b[0;34m]\u001b[0m\u001b[0;34m=\u001b[0m\u001b[0;34m\"Novo Título\"\u001b[0m\u001b[0;34m\u001b[0m\u001b[0;34m\u001b[0m\u001b[0m\n\u001b[0m\u001b[1;32m      2\u001b[0m \u001b[0mprint\u001b[0m\u001b[0;34m(\u001b[0m\u001b[0;34mf\"dados do livro: {dados_livro}\"\u001b[0m\u001b[0;34m)\u001b[0m\u001b[0;34m\u001b[0m\u001b[0;34m\u001b[0m\u001b[0m\n",
            "\u001b[0;31mTypeError\u001b[0m: 'tuple' object does not support item assignment"
          ]
        }
      ]
    },
    {
      "cell_type": "markdown",
      "source": [
        "#Tarefa 1.5: Use um conjunto para remover palavras duplicadas."
      ],
      "metadata": {
        "id": "Tf6PX-oKky2Q"
      }
    },
    {
      "cell_type": "code",
      "source": [
        "tokens = [\"o\", \"rato\", \"roeu\",\"a\", \"roupa\", \"do\", \"rei\", \"de\", \"Roma\"]\n",
        "print(f\"Tokens originais:{tokens}\")"
      ],
      "metadata": {
        "colab": {
          "base_uri": "https://localhost:8080/"
        },
        "id": "6_CcfdMyk8rF",
        "outputId": "2d9ac7c2-96c6-4bbe-9817-90f90cc04e15"
      },
      "execution_count": null,
      "outputs": [
        {
          "output_type": "stream",
          "name": "stdout",
          "text": [
            "Tokens originais:['o', 'rato', 'roeu', 'a', 'roupa', 'do', 'rei', 'de', 'Roma']\n"
          ]
        }
      ]
    },
    {
      "cell_type": "markdown",
      "source": [
        "#converter a lista para um conjunto para obter itens únicos"
      ],
      "metadata": {
        "id": "dtWRKfmOlwVT"
      }
    },
    {
      "cell_type": "markdown",
      "source": [],
      "metadata": {
        "id": "TZnLNqtLi-Hn"
      }
    },
    {
      "cell_type": "code",
      "source": [
        "vocabulario = set(tokens)\n",
        "print(f\"vocabulário (itens únicos): {vocabulario}\")"
      ],
      "metadata": {
        "colab": {
          "base_uri": "https://localhost:8080/"
        },
        "id": "9yw3x6lXl29Y",
        "outputId": "d02abfd8-1ef6-436f-cf57-60b28ed9ceae"
      },
      "execution_count": null,
      "outputs": [
        {
          "output_type": "stream",
          "name": "stdout",
          "text": [
            "vocabulário (itens únicos): {'rei', 'de', 'roeu', 'o', 'rato', 'roupa', 'do', 'Roma', 'a'}\n"
          ]
        }
      ]
    },
    {
      "cell_type": "markdown",
      "source": [
        "#Tarefa 1.6: Mapeie termos de PLN com suas definições"
      ],
      "metadata": {
        "id": "1x9DSjIWnd2u"
      }
    },
    {
      "cell_type": "code",
      "source": [
        "terminos_pln = {\n",
        "    'corpus': 'Coleção de textos',\n",
        "    'token':'Unidade de texto',\n",
        "    'stopwords': 'Palavras comuns sem muito significado'\n",
        "}"
      ],
      "metadata": {
        "id": "XEfeRdg6nmw9"
      },
      "execution_count": null,
      "outputs": []
    },
    {
      "cell_type": "markdown",
      "source": [
        "#Acessar um valor pela chave"
      ],
      "metadata": {
        "id": "miV1wNYooFeb"
      }
    },
    {
      "cell_type": "code",
      "source": [
        "print(f\"Definição de 'token':{terminos_pln['token']}\")"
      ],
      "metadata": {
        "colab": {
          "base_uri": "https://localhost:8080/"
        },
        "id": "7HZ3JbuAoML6",
        "outputId": "8ee289b8-5474-4a52-ddb7-1ca9939010d6"
      },
      "execution_count": null,
      "outputs": [
        {
          "output_type": "stream",
          "name": "stdout",
          "text": [
            "Definição de 'token':Unidade de texto\n"
          ]
        }
      ]
    },
    {
      "cell_type": "markdown",
      "source": [
        "#Adicionar um novo item"
      ],
      "metadata": {
        "id": "-IZgC17Qokyi"
      }
    },
    {
      "cell_type": "code",
      "source": [
        "terminos_pln['lematizacao']='Redução de palavras ao seu lema'\n",
        "print(f\"Dicionário atualizado:{terminos_pln}\")"
      ],
      "metadata": {
        "colab": {
          "base_uri": "https://localhost:8080/"
        },
        "id": "Sqfql_Vsoqrd",
        "outputId": "d7f1557f-b766-4ee2-fe96-a231518a4af6"
      },
      "execution_count": null,
      "outputs": [
        {
          "output_type": "stream",
          "name": "stdout",
          "text": [
            "Dicionário atualizado:{'corpus': 'Coleção de textos', 'token': 'Unidade de texto', 'stopwords': 'Palavras comuns sem muito significado', 'lematizacao': 'Redução de palavras ao seu lema'}\n"
          ]
        }
      ]
    },
    {
      "cell_type": "markdown",
      "source": [
        "#Tarefa 2.1 Pratica com if, else e elif"
      ],
      "metadata": {
        "id": "C3x9y0l1pFab"
      }
    },
    {
      "cell_type": "code",
      "source": [
        "ano_publicacao = 1985\n",
        "if ano_publicacao < 1901:\n",
        "    print(\"Romance anterior ao século XX.\")\n",
        "elif ano_publicacao >= 1901 and ano_publicacao < 2000:\n",
        "    print(\"Romance do século XX.\")\n",
        "else:\n",
        "    print(\"Romance do século XXI.\")\n"
      ],
      "metadata": {
        "colab": {
          "base_uri": "https://localhost:8080/"
        },
        "id": "3lIlaFW3pROe",
        "outputId": "72ec600d-fae4-46e4-bb4d-a3953e863bc3"
      },
      "execution_count": null,
      "outputs": [
        {
          "output_type": "stream",
          "name": "stdout",
          "text": [
            "Romance do século XX.\n"
          ]
        }
      ]
    },
    {
      "cell_type": "markdown",
      "source": [
        "#Testando inclusão com 'in'"
      ],
      "metadata": {
        "id": "qZbtgZxUqimG"
      }
    },
    {
      "cell_type": "code",
      "source": [
        "frase_teste = \"Phyton é a melhor linguagem.\"\n",
        "if 'Phyton' in frase_teste:\n",
        "    print(\"A frase menciona Phyton\")"
      ],
      "metadata": {
        "colab": {
          "base_uri": "https://localhost:8080/"
        },
        "id": "W9mvlS6Yqq7C",
        "outputId": "63d5d305-dded-44b4-a1e5-be80ca53866b"
      },
      "execution_count": null,
      "outputs": [
        {
          "output_type": "stream",
          "name": "stdout",
          "text": [
            "A frase menciona Phyton\n"
          ]
        }
      ]
    },
    {
      "cell_type": "markdown",
      "source": [
        "#Tarefa 2.2: Use um loop´for para iterar sobre uma lista de palavras."
      ],
      "metadata": {
        "id": "WWuITS5grJki"
      }
    },
    {
      "cell_type": "code",
      "source": [
        "palavras_para_analise = [\"computador\", \"dados\", \"linguagem\"]\n",
        "for palavra in palavras_para_analise:\n",
        "  print(f\"A palavra atual é:{palavra}\")"
      ],
      "metadata": {
        "colab": {
          "base_uri": "https://localhost:8080/"
        },
        "id": "gwjp4cYhraFN",
        "outputId": "45fb397b-230f-4f56-ac3d-015895da004b"
      },
      "execution_count": null,
      "outputs": [
        {
          "output_type": "stream",
          "name": "stdout",
          "text": [
            "A palavra atual é:computador\n",
            "A palavra atual é:dados\n",
            "A palavra atual é:linguagem\n"
          ]
        }
      ]
    },
    {
      "cell_type": "markdown",
      "source": [
        "Tarefa 2.3: Use um loop while para uma tarefa de contagem"
      ],
      "metadata": {
        "id": "PBzI_9NLIk0R"
      }
    },
    {
      "cell_type": "code",
      "source": [
        "contador = 1\n",
        "while contador <= 3:\n",
        "      print(f\"Execução número {contador}\")\n",
        "      contador = contador + 1"
      ],
      "metadata": {
        "colab": {
          "base_uri": "https://localhost:8080/"
        },
        "id": "82_PExDoIvnS",
        "outputId": "2bb2e21d-1e94-4da9-c0d6-d6410ffc2aa2"
      },
      "execution_count": null,
      "outputs": [
        {
          "output_type": "stream",
          "name": "stdout",
          "text": [
            "Execução número 1\n",
            "Execução número 2\n",
            "Execução número 3\n"
          ]
        }
      ]
    },
    {
      "cell_type": "markdown",
      "source": [
        "3.1 Funções Definidas pelo Programador"
      ],
      "metadata": {
        "id": "Fko1VciDLsdt"
      }
    },
    {
      "cell_type": "code",
      "source": [
        "#Tarefa 3.1: função nomeada def define a funçã, ela recebe 'argumento'\n",
        "def contar_palavras(sentenca):\n",
        "    \"\"\"Conta o número de palavras em uma sentença.\"\"\"\n",
        "    palavras = sentenca.split() #converte a string em lista\n",
        "    return len(palavras)\n",
        "setenca_exemplo = \"O rato roeu a roupa do rei de Roma\"\n",
        "numero_de_palavras = contar_palavras(setenca_exemplo)\n",
        "print(f\"O número de palavras na frase é: {numero_de_palavras}\")"
      ],
      "metadata": {
        "colab": {
          "base_uri": "https://localhost:8080/"
        },
        "id": "ATnB3Lb0Jw5V",
        "outputId": "c2293d24-5043-4d7d-d75e-e73c8e303c6c"
      },
      "execution_count": null,
      "outputs": [
        {
          "output_type": "stream",
          "name": "stdout",
          "text": [
            "O número de palavras na frase é: 9\n"
          ]
        }
      ]
    },
    {
      "cell_type": "code",
      "source": [
        "#Tarefa 3.2: Entenda as funções amônimas\n",
        "multiplicar = lambda x, y,: x * y\n",
        "resultado = multiplicar(5, 3)\n",
        "print(f\"O resultado da multiplicação é: {resultado}\")"
      ],
      "metadata": {
        "colab": {
          "base_uri": "https://localhost:8080/"
        },
        "id": "R5SNGSBfLHly",
        "outputId": "3ab0f8de-e71e-447b-b817-863c08fe9edd"
      },
      "execution_count": null,
      "outputs": [
        {
          "output_type": "stream",
          "name": "stdout",
          "text": [
            "O resultado da multiplicação é: 15\n"
          ]
        }
      ]
    },
    {
      "cell_type": "markdown",
      "source": [
        "3.2 Filtragem de Dados"
      ],
      "metadata": {
        "id": "kqrHqF0hLyVj"
      }
    },
    {
      "cell_type": "code",
      "source": [
        "#Tarefa 3.3: Filtre palavras que iniciam com a letra a\n",
        "texto_completo = \" A análise de sentimentos é uma das áreas mais aplicadas do PLN\"\n",
        "tokens_sujos = texto_completo.lower().split()\n",
        "print(f\"Tokens originais: {tokens_sujos}\")\n",
        "palavras_filtradas = []"
      ],
      "metadata": {
        "colab": {
          "base_uri": "https://localhost:8080/"
        },
        "id": "uCZgDlkrL4Zs",
        "outputId": "ccd303b9-fd79-486d-8fc1-819490cb7c9e"
      },
      "execution_count": null,
      "outputs": [
        {
          "output_type": "stream",
          "name": "stdout",
          "text": [
            "Tokens originais: ['a', 'análise', 'de', 'sentimentos', 'é', 'uma', 'das', 'áreas', 'mais', 'aplicadas', 'do', 'pln']\n"
          ]
        }
      ]
    },
    {
      "cell_type": "code",
      "source": [
        "for palavra in tokens_sujos:\n",
        "    if palavra.startswith('a'):\n",
        "        palavras_filtradas.append(palavra)\n",
        "print(f\"Palavras que começam com 'a':{palavras_filtradas}\")"
      ],
      "metadata": {
        "colab": {
          "base_uri": "https://localhost:8080/"
        },
        "id": "-HGQoEd2MyCG",
        "outputId": "c6215a61-5f17-495e-ce66-74c396a4541a"
      },
      "execution_count": null,
      "outputs": [
        {
          "output_type": "stream",
          "name": "stdout",
          "text": [
            "Palavras que começam com 'a':['a', 'análise', 'aplicadas']\n"
          ]
        }
      ]
    },
    {
      "cell_type": "code",
      "source": [
        "#Tarefa 3.4: O desafio Pythonico, usando uma única linha\n",
        "palavras_filtradas_compreensao = [palavra for palavra in tokens_sujos if palavra.startswith('a')]\n",
        "print(f\"Resultado com compreensão de listas: {palavras_filtradas_compreensao}\")"
      ],
      "metadata": {
        "colab": {
          "base_uri": "https://localhost:8080/"
        },
        "id": "uWgLzuRsNdcQ",
        "outputId": "cb941e53-f712-4608-f728-104b3c89c098"
      },
      "execution_count": null,
      "outputs": [
        {
          "output_type": "stream",
          "name": "stdout",
          "text": [
            "Resultado com compreensão de listas: ['a', 'análise', 'aplicadas']\n"
          ]
        }
      ]
    },
    {
      "cell_type": "markdown",
      "source": [
        "EXERCÍCIOS"
      ],
      "metadata": {
        "id": "JLqbRgYzPTAM"
      }
    },
    {
      "cell_type": "code",
      "source": [
        "def inversa(s):\n",
        "    invertida = ''\n",
        "    i = len(s) - 1  # Começa do último índice da string\n",
        "    while i >= 0:\n",
        "        invertida += s[i]  # Adiciona o caractere à nova string\n",
        "        i -= 1  # Decrementa o índice\n",
        "    return invertida\n",
        "\n",
        "\n",
        "print(inversa('abc'))\n"
      ],
      "metadata": {
        "colab": {
          "base_uri": "https://localhost:8080/"
        },
        "id": "RRPuon6pOJAx",
        "outputId": "ca775d08-72f7-42da-a2bd-51f02b9d2fde"
      },
      "execution_count": null,
      "outputs": [
        {
          "output_type": "stream",
          "name": "stdout",
          "text": [
            "cba\n"
          ]
        }
      ]
    },
    {
      "cell_type": "code",
      "source": [
        "def palavras(frase):\n",
        "    palavras_lista = frase.split()  # Divide a frase em uma lista de palavras\n",
        "    return len(palavras_lista)      # Retorna a quantidade de palavras\n",
        "\n",
        "\n",
        "print(palavras('O rato roeu a roupa do rei de Roma'))\n"
      ],
      "metadata": {
        "colab": {
          "base_uri": "https://localhost:8080/"
        },
        "id": "8f7kZ64iO6It",
        "outputId": "cdacc17e-d778-4acb-898f-026d7870e82d"
      },
      "execution_count": null,
      "outputs": [
        {
          "output_type": "stream",
          "name": "stdout",
          "text": [
            "9\n"
          ]
        }
      ]
    },
    {
      "cell_type": "code",
      "source": [
        "def iniciais(frase):\n",
        "    palavras = frase.split()             # Divide a frase em palavras\n",
        "    return [palavra[0].upper() for palavra in palavras]  # Pega a letra inicial em maiúscula\n",
        "\n",
        "\n",
        "print(iniciais('O rato roeu a roupa do rei de Roma'))\n",
        "\n"
      ],
      "metadata": {
        "colab": {
          "base_uri": "https://localhost:8080/"
        },
        "id": "UGhqKsX0PKzr",
        "outputId": "cb7d0b6b-0789-4fe0-9a60-a54168a1ac16"
      },
      "execution_count": null,
      "outputs": [
        {
          "output_type": "stream",
          "name": "stdout",
          "text": [
            "['O', 'R', 'R', 'A', 'R', 'D', 'R', 'D', 'R']\n"
          ]
        }
      ]
    },
    {
      "cell_type": "code",
      "source": [
        "def alfabeto(frase):\n",
        "    letras = set(frase.upper())  # Converte para maiúsculas e cria um conjunto com todos os caracteres\n",
        "    letras.discard(' ')          # Remove o espaço em branco, se existir\n",
        "    return letras\n",
        "\n",
        "\n",
        "print(alfabeto('O rato roeu a roupa do rei de Roma'))\n",
        "\n"
      ],
      "metadata": {
        "colab": {
          "base_uri": "https://localhost:8080/"
        },
        "id": "jYXPwpDHPfvz",
        "outputId": "686b6f91-df40-417f-946b-6dbf9d5699b1"
      },
      "execution_count": null,
      "outputs": [
        {
          "output_type": "stream",
          "name": "stdout",
          "text": [
            "{'U', 'T', 'O', 'A', 'P', 'E', 'M', 'I', 'R', 'D'}\n"
          ]
        }
      ]
    },
    {
      "cell_type": "code",
      "source": [
        "\n",
        "def alfabeto(frase):\n",
        "    # Gera um conjunto com as letras, convertidas para maiúsculas e filtrando apenas caracteres alfabéticos\n",
        "    return {letra.upper() for letra in frase if letra.isalpha()}\n",
        "\n",
        "\n",
        "print(alfabeto('O rato roeu a roupa do rei de Roma'))\n",
        "\n"
      ],
      "metadata": {
        "colab": {
          "base_uri": "https://localhost:8080/"
        },
        "id": "lPIAZ0MEPq90",
        "outputId": "967b21f2-0bdc-4fa2-c5e3-18f3033a0594"
      },
      "execution_count": null,
      "outputs": [
        {
          "output_type": "stream",
          "name": "stdout",
          "text": [
            "{'U', 'T', 'O', 'A', 'P', 'M', 'E', 'I', 'R', 'D'}\n"
          ]
        }
      ]
    }
  ]
}