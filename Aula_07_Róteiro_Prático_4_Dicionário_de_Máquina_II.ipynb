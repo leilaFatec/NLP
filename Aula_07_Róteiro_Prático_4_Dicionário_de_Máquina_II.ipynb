{
  "nbformat": 4,
  "nbformat_minor": 0,
  "metadata": {
    "colab": {
      "provenance": []
    },
    "kernelspec": {
      "name": "python3",
      "display_name": "Python 3"
    },
    "language_info": {
      "name": "python"
    }
  },
  "cells": [
    {
      "cell_type": "code",
      "execution_count": null,
      "metadata": {
        "colab": {
          "base_uri": "https://localhost:8080/"
        },
        "id": "0NIrG9xIWq69",
        "outputId": "fc974968-55ed-4cea-8762-2e9ae470a3aa"
      },
      "outputs": [
        {
          "output_type": "stream",
          "name": "stdout",
          "text": [
            "Requirement already satisfied: gensim in /usr/local/lib/python3.12/dist-packages (4.3.3)\n",
            "Requirement already satisfied: numpy<2.0,>=1.18.5 in /usr/local/lib/python3.12/dist-packages (from gensim) (1.26.4)\n",
            "Requirement already satisfied: scipy<1.14.0,>=1.7.0 in /usr/local/lib/python3.12/dist-packages (from gensim) (1.13.1)\n",
            "Requirement already satisfied: smart-open>=1.8.1 in /usr/local/lib/python3.12/dist-packages (from gensim) (7.3.1)\n",
            "Requirement already satisfied: wrapt in /usr/local/lib/python3.12/dist-packages (from smart-open>=1.8.1->gensim) (1.17.3)\n"
          ]
        }
      ],
      "source": [
        "#configuração de ambiente\n",
        "\n",
        "%pip install gensim\n"
      ]
    },
    {
      "cell_type": "code",
      "source": [
        "import gensim.downloader as api\n",
        "print(\"Baixando o modelo Glove...\")"
      ],
      "metadata": {
        "colab": {
          "base_uri": "https://localhost:8080/"
        },
        "id": "lJVSsLNLXYUJ",
        "outputId": "91461a80-4a09-4786-b37e-e370f734c34d"
      },
      "execution_count": null,
      "outputs": [
        {
          "output_type": "stream",
          "name": "stdout",
          "text": [
            "Baixando o modelo Glove...\n"
          ]
        }
      ]
    },
    {
      "cell_type": "code",
      "source": [
        "glove_model_path = api.load(\"glove-wiki-gigaword-100\", return_path=True)\n",
        "print(\"Modelo glove baixado com sucesso!\")"
      ],
      "metadata": {
        "colab": {
          "base_uri": "https://localhost:8080/"
        },
        "id": "EW20fYjvMIfX",
        "outputId": "ea3840be-0832-4683-9219-fa21080b0248"
      },
      "execution_count": null,
      "outputs": [
        {
          "output_type": "stream",
          "name": "stdout",
          "text": [
            "[==================================================] 100.0% 128.1/128.1MB downloaded\n",
            "Modelo glove baixado com sucesso!\n"
          ]
        }
      ]
    },
    {
      "cell_type": "code",
      "source": [
        "from gensim.models import KeyedVectors\n",
        "glove_model = KeyedVectors.load_word2vec_format(glove_model_path, binary= False )\n",
        "print(\"\\nModelo Glove carregado e pronto para uso!\")"
      ],
      "metadata": {
        "colab": {
          "base_uri": "https://localhost:8080/"
        },
        "id": "sd7Z8KREMYFV",
        "outputId": "d8c07dc3-4769-4f25-83f3-cc38f333d72f"
      },
      "execution_count": null,
      "outputs": [
        {
          "output_type": "stream",
          "name": "stdout",
          "text": [
            "\n",
            "Modelo Glove carregado e pronto para uso!\n"
          ]
        }
      ]
    },
    {
      "cell_type": "markdown",
      "source": [
        "Similaridade"
      ],
      "metadata": {
        "id": "VrNvpzDtOHLe"
      }
    },
    {
      "cell_type": "code",
      "source": [
        "similaridade_king_queen = glove_model.similarity('king', 'queen')\n",
        "print(f\"Similaridade entre 'king' e 'queen': {similaridade_king_queen:.4f}\")"
      ],
      "metadata": {
        "colab": {
          "base_uri": "https://localhost:8080/"
        },
        "id": "W9t90kenN9JQ",
        "outputId": "f4d628b9-43f3-4247-9e58-248f935adb63"
      },
      "execution_count": null,
      "outputs": [
        {
          "output_type": "stream",
          "name": "stdout",
          "text": [
            "Similaridade entre 'king' e 'queen': 0.7508\n"
          ]
        }
      ]
    },
    {
      "cell_type": "code",
      "source": [
        "similaridade_king_dog = glove_model.similarity('king', 'dog')\n",
        "print(f\"Similaridade entre 'king' e 'dog': {similaridade_king_dog:.4f}\")"
      ],
      "metadata": {
        "colab": {
          "base_uri": "https://localhost:8080/"
        },
        "id": "usXjZ3I9SCLQ",
        "outputId": "93fe6b2b-5e6a-4d75-ee3d-dd6706a269b6"
      },
      "execution_count": null,
      "outputs": [
        {
          "output_type": "stream",
          "name": "stdout",
          "text": [
            "Similaridade entre 'king' e 'dog': 0.2951\n"
          ]
        }
      ]
    },
    {
      "cell_type": "code",
      "source": [
        "similaridade_man_woman = glove_model.similarity('man', 'woman')\n",
        "print(f\"Similaridade entre 'man' e 'woman': {similaridade_man_woman:.4f}\")"
      ],
      "metadata": {
        "colab": {
          "base_uri": "https://localhost:8080/"
        },
        "id": "UB4ByC7BSQ5T",
        "outputId": "0d13e97f-8896-4096-e1e9-3f3c85943eb4"
      },
      "execution_count": null,
      "outputs": [
        {
          "output_type": "stream",
          "name": "stdout",
          "text": [
            "Similaridade entre 'man' e 'woman': 0.8323\n"
          ]
        }
      ]
    },
    {
      "cell_type": "markdown",
      "source": [
        "Analogia matemática"
      ],
      "metadata": {
        "id": "yi7AZd8GShoC"
      }
    },
    {
      "cell_type": "code",
      "source": [
        "#origin\n",
        "\n",
        "resultado_analogia = glove_model.most_similar(positive=['queen', 'king'], negative=['man'])\n",
        "print(\"Resultado da analogia: 'man' para 'woman' é como 'king' para...\")\n",
        "print(f\"Resposta do modelo: {resultado_analogia[0]}\")"
      ],
      "metadata": {
        "colab": {
          "base_uri": "https://localhost:8080/"
        },
        "id": "hYapvM9iSkbi",
        "outputId": "5d8234af-fa00-47aa-b410-c617f36963e4"
      },
      "execution_count": null,
      "outputs": [
        {
          "output_type": "stream",
          "name": "stdout",
          "text": [
            "Resultado da analogia: 'man' para 'woman' é como 'king' para...\n",
            "Resposta do modelo: ('monarch', 0.635038435459137)\n"
          ]
        }
      ]
    },
    {
      "cell_type": "code",
      "source": [
        "#corrigindo\n",
        "resultado_analogia = glove_model.most_similar(\n",
        "    positive=['king', 'woman'],\n",
        "    negative=['man'],\n",
        "    topn=1\n",
        ")\n",
        "\n",
        "print(\"Resultado da analogia: 'man' está para 'woman' assim como 'king' está para...\")\n",
        "print(f\"Resposta do modelo: {resultado_analogia[0][0]} (similaridade: {resultado_analogia[0][1]:.4f})\")\n"
      ],
      "metadata": {
        "colab": {
          "base_uri": "https://localhost:8080/"
        },
        "id": "_KxYGNSqUg3j",
        "outputId": "0d864539-c473-4f3f-b2c7-0dd9dd38f637"
      },
      "execution_count": null,
      "outputs": [
        {
          "output_type": "stream",
          "name": "stdout",
          "text": [
            "Resultado da analogia: 'man' está para 'woman' assim como 'king' está para...\n",
            "Resposta do modelo: queen (similaridade: 0.7699)\n"
          ]
        }
      ]
    },
    {
      "cell_type": "code",
      "source": [
        "from gensim.models import Word2Vec\n",
        "corpus=[\n",
        "[\"o\",\"cachorro\",\"está\",\"dormindo\"],\n",
        "[\"o\",\"gato\",\"está\",\"dormindo\"]\n",
        "]\n",
        "#vetor\n",
        "model = Word2Vec(sentences=corpus, vector_size=100, window=5, min_count=1,sg=1)\n",
        "vector = model.wv['cachorro']\n",
        "\n",
        "#similaridade\n",
        "similarity = model.wv.similarity('cachorro', 'gato')\n",
        "print(\"Similaridade entre 'cachorro' e 'gato':\", similarity)"
      ],
      "metadata": {
        "colab": {
          "base_uri": "https://localhost:8080/"
        },
        "id": "hvawxFxFUxaC",
        "outputId": "00dda813-7556-4a14-97d3-cab741d33e10"
      },
      "execution_count": null,
      "outputs": [
        {
          "output_type": "stream",
          "name": "stdout",
          "text": [
            "Similaridade entre 'cachorro' e 'gato': -0.0446171\n"
          ]
        }
      ]
    },
    {
      "cell_type": "code",
      "source": [
        "#Diversidade do corpus\n",
        "\n",
        "from gensim.models import Word2Vec\n",
        "corpus=[\n",
        "[\"o\",\"cachorro\",\"está\",\"latindo\", \"no\", \"quintal\"],\n",
        "[\"o\",\"gato\",\"está\",\"miando\", \"no\", \"telhado\"],\n",
        "[\"o\",\"pássaro\",\"está\",\"voando\", \"no\", \"céu\"],\n",
        "[\"a\",\"bola\",\"está\",\"rolando\", \"no\", \"chão\"],\n",
        "[\"a\",\"criança\",\"está\",\"brincando\", \"com\", \"o\", \"cachorro\"],\n",
        "[\"o\",\"gato\",\"e\",\"o\", \"rato\", \"são\", \"inimigos\"],\n",
        "[\"a\",\"água\",\"está\",\"quente\", \"na\", \"caneca\"],\n",
        "[\"o\",\"sol\",\"está\",\"brilhando\", \"no\", \"céu\"],\n",
        "[\"a\",\"lua\",\"está\",\"cheia\", \"hoje\"],\n",
        "[\"o\",\"computador\",\"está\",\"ligado\", \"na\", \"mesa\"]\n",
        "]\n",
        "#vetor\n",
        "model = Word2Vec(sentences=corpus, vector_size=100, window=5, min_count=1, sg=1)\n",
        "\n",
        "#similaridade\n",
        "\n",
        "print(f\"Similaridade entre cachorro e gato  :{model.wv.similarity('cachorro', 'gato')}\")\n",
        "print(f\"Similaridade entre cachorro e bola  :{model.wv.similarity('cachorro', 'bola')}\")\n",
        "print(f\"Similaridade entre céu e lua        :{model.wv.similarity('céu', 'lua')}\")\n",
        "print(f\"Similaridade entre computador e mesa:{model.wv.similarity('computador', 'mesa')}\")"
      ],
      "metadata": {
        "colab": {
          "base_uri": "https://localhost:8080/"
        },
        "id": "ddA1Gm2sWpVt",
        "outputId": "4263fc69-4cb1-414f-e6b0-f0b614b3e4e8"
      },
      "execution_count": null,
      "outputs": [
        {
          "output_type": "stream",
          "name": "stdout",
          "text": [
            "Similaridade entre cachorro e gato  :-0.027308782562613487\n",
            "Similaridade entre cachorro e bola  :0.08079899847507477\n",
            "Similaridade entre céu e lua        :0.16274800896644592\n",
            "Similaridade entre computador e mesa:0.037216201424598694\n"
          ]
        }
      ]
    },
    {
      "cell_type": "code",
      "source": [
        "#Modelo Glove\n",
        "from google.colab import drive\n",
        "drive.mount('/content/drive')\n"
      ],
      "metadata": {
        "colab": {
          "base_uri": "https://localhost:8080/"
        },
        "id": "VsqEuUo5ZjIU",
        "outputId": "2cb93333-b7dc-4974-8e6c-028d641a5154"
      },
      "execution_count": null,
      "outputs": [
        {
          "output_type": "stream",
          "name": "stdout",
          "text": [
            "Mounted at /content/drive\n"
          ]
        }
      ]
    },
    {
      "cell_type": "code",
      "source": [
        "from gensim.models import KeyedVectors\n",
        "glove_path = '/content/drive/MyDrive/Arquivos_txt/PLN Atividades/glove.2024.wikigiga.50d/wiki_giga_2024_50_MFT20_vectors_seed_123_alpha_0.75_eta_0.075_combined.txt'\n",
        "glove_model : KeyedVectors.load_word2vec_format(glove_path, binary=False, no_header=True)"
      ],
      "metadata": {
        "id": "fPrKrbafnz_L"
      },
      "execution_count": null,
      "outputs": []
    },
    {
      "cell_type": "code",
      "source": [
        "#Semantica\n",
        "similaridade = glove_model.similarity('king', 'queen')\n",
        "print(\"Similaridade entre 'king e 'queen':\", similaridade)\n",
        "\n"
      ],
      "metadata": {
        "colab": {
          "base_uri": "https://localhost:8080/"
        },
        "id": "zYvZA377f2Ry",
        "outputId": "ce5c2ca3-5821-4c18-9575-5a0682c7cf10"
      },
      "execution_count": null,
      "outputs": [
        {
          "output_type": "stream",
          "name": "stdout",
          "text": [
            "Similaridade entre 'king e 'queen': 0.7507691\n"
          ]
        }
      ]
    },
    {
      "cell_type": "code",
      "source": [
        "palavras_proximas = glove_model.most_similar('king')\n",
        "print(\"Palavras próximas de 'king':\", palavras_proximas )"
      ],
      "metadata": {
        "colab": {
          "base_uri": "https://localhost:8080/"
        },
        "id": "HXU2tyXBkNBq",
        "outputId": "7b4f9f4e-8c3d-4f8b-d19d-d574086a5bcf"
      },
      "execution_count": null,
      "outputs": [
        {
          "output_type": "stream",
          "name": "stdout",
          "text": [
            "Palavras próximas de 'king': [('prince', 0.7682328820228577), ('queen', 0.7507690787315369), ('son', 0.7020888328552246), ('brother', 0.6985775232315063), ('monarch', 0.6977890729904175), ('throne', 0.6919989585876465), ('kingdom', 0.6811409592628479), ('father', 0.6802029013633728), ('emperor', 0.6712858080863953), ('ii', 0.6676074266433716)]\n"
          ]
        }
      ]
    }
  ]
}